{
 "cells": [
  {
   "cell_type": "code",
   "execution_count": 12,
   "metadata": {},
   "outputs": [],
   "source": [
    "from langchain_community.document_loaders import WebBaseLoader"
   ]
  },
  {
   "cell_type": "code",
   "execution_count": 7,
   "metadata": {},
   "outputs": [],
   "source": [
    "loader = WebBaseLoader(\"https://cct.neduet.edu.pk/aboutus\")"
   ]
  },
  {
   "cell_type": "code",
   "execution_count": 8,
   "metadata": {},
   "outputs": [
    {
     "data": {
      "text/plain": [
       "<langchain_community.document_loaders.web_base.WebBaseLoader at 0x2678b272490>"
      ]
     },
     "execution_count": 8,
     "metadata": {},
     "output_type": "execute_result"
    }
   ],
   "source": [
    "loader"
   ]
  },
  {
   "cell_type": "code",
   "execution_count": 9,
   "metadata": {},
   "outputs": [],
   "source": [
    "data = loader.load()"
   ]
  },
  {
   "cell_type": "code",
   "execution_count": 11,
   "metadata": {},
   "outputs": [
    {
     "data": {
      "text/plain": [
       "[Document(page_content='\\n\\n\\n\\n\\n\\n\\n\\n\\n\\n\\n\\nAbout Us | NEDUET - CSIT Department\\n\\n\\n\\n\\n\\n\\n\\n\\n\\n\\n\\n\\n\\n\\n\\n\\n\\n\\n\\n    \\n\\n\\n\\n\\n\\n\\n\\n\\n\\n\\n\\n\\n\\n\\n\\n\\n\\n\\n\\n\\n\\n\\n\\n\\n\\n\\n\\n\\n\\n\\n\\nMenu\\n\\n\\n\\n\\n\\n\\n\\n\\n        About\\n      \\n\\n\\n\\n\\n\\n        Contact Us\\n      \\n\\n\\n\\n\\n\\n\\n\\n        Research\\n      \\n\\n\\n\\n        Programmes\\n      \\n\\n\\n\\n\\n\\n        Undergraduate\\n      \\n\\n\\n\\n        Masters\\n      \\n\\n\\n\\n\\n\\n        Admission\\n      \\n\\n\\n\\n        Academic Calander\\n      \\n\\n\\n\\n        Exam Schedule\\n      \\n\\n\\n\\n        Time Table\\n      \\n\\n\\n\\n\\n\\n\\n\\n        PhD\\n      \\n\\n\\n\\n\\n\\n\\n\\n        OBE\\n      \\n\\n\\n\\n\\n\\n        Outcome Based Education\\n      \\n\\n\\n\\n        Teachers Resources\\n      \\n\\n\\n\\n\\n\\n\\n\\n        Faculty\\n      \\n\\n\\n\\n\\n\\n        Faculty Members\\n      \\n\\n\\n\\n        Departmental Committees\\n      \\n\\n\\n\\n\\n\\n\\n\\n        Publications\\n      \\n\\n\\n\\n        Projects\\n      \\n\\n\\n\\n\\n\\n        Final Year Design Projects\\n      \\n\\n\\n\\n        Ph.D Projects\\n      \\n\\n\\n\\n        Funding Statistics\\n      \\n\\n\\n\\n\\n\\n\\n\\n        Achievements\\n      \\n\\n\\n\\n\\n\\n        Collaborations\\n      \\n\\n\\n\\n        Faculty Achievement\\n      \\n\\n\\n\\n        Student Achievement\\n      \\n\\n\\n\\n        Shining Stars (CSIT Alumni)\\n      \\n\\n\\n\\n        LeetcodeRanking\\n      \\n\\n\\n\\n\\n\\n\\n\\n        Events\\n      \\n\\n\\n\\n\\n\\n        Sessions\\n      \\n\\n\\n\\n        Departmental Activities\\n      \\n\\n\\n\\n        Upcoming External Events\\n      \\n\\n\\n\\n        Report an event\\n      \\n\\n\\n\\n\\n\\n\\n\\n        Student Clubs\\n      \\n\\n\\n\\n        Huawei Club\\n      \\n\\n\\n\\n        Tech Fest\\n      \\n\\n\\n\\n\\n\\n\\n\\n\\nclose×\\nCall Us \\n\\n\\nclose×\\n\\n\\nSearch \\n\\n\\n\\n\\n\\n\\n\\n\\n\\n\\n\\n\\n\\n\\nAbout Us\\n\\n\\n\\n\\n\\n\\n\\nBreadcrumb\\n\\n\\nHome\\n\\n\\n                  About Us\\n              \\n\\n\\n\\n\\n\\n\\n\\n\\n\\n\\n\\n\\n\\n\\n\\n\\n\\nThe Department of Computer Science and Information Technology is dedicated to upholding excellence in teaching, research, and service. Our students are provided with the opportunity to gain a strong understanding of the principles and theories of computing and information technology. Our graduates are highly regarded and in demand by industry, as they have proven successful in securing suitable positions. They are prepared to enter the workforce as productive computer scientists or to continue their education at a higher level. Their foundation is solid, enabling them to be lifelong learners in their chosen field.Along with their responsibilities for program excellence and professional development, our faculty members are committed to providing service through continuing education programs and research that contributes to their field. At the department level, we frequently assess our students, faculty, and program to ensure that our mission is being accomplished.Due to the rapid advancements in the field of computer science and information technology in the late 1990s, a separate department was necessary for the study, research, and development of various branches of Computer Systems Engineering.The demand for computer science graduates in the thriving IT industry continues to grow, providing excellent prospects for those with high-quality skill sets. To supplement this academic level, the department offers postgraduate programs with a specialization in Computer Science & Information Technology (CSIT) and Information Security (IS). Currently, the department offers the following undergraduate and postgraduate programs: BS (Computer Science) BS Computer Science (Specialisation in Artificial Intelligence) BS Computer Science (Specialisation in Data Science). BS Computer Science (Specialisation in Cyber Security) BS Computer Science (Specialisation in Gaming and Animation) MS (Computer Science & Information Technology) MS (Information Security) MS (Data Science) MS DS (GDS) PhD (Computer Science)\\n\\n\\n\\n\\n\\n\\n\\n\\n\\n\\n\\n\\n\\n\\n\\n\\n\\n\\n\\n\\n\\n\\n\\n\\n\\n\\n\\n\\n\\n\\n          Copyright © NEDUET - CSIT Department, 2024\\n      \\n\\n\\n\\n\\n\\n\\n\\n\\n\\n\\n\\n\\n\\n\\n\\n\\n\\n\\n\\n\\n\\n\\n\\n', metadata={'source': 'https://cct.neduet.edu.pk/aboutus', 'title': 'About Us | NEDUET - CSIT Department', 'language': 'en'})]"
      ]
     },
     "execution_count": 11,
     "metadata": {},
     "output_type": "execute_result"
    }
   ],
   "source": [
    "data"
   ]
  },
  {
   "cell_type": "code",
   "execution_count": null,
   "metadata": {},
   "outputs": [],
   "source": []
  }
 ],
 "metadata": {
  "kernelspec": {
   "display_name": "venv",
   "language": "python",
   "name": "python3"
  },
  "language_info": {
   "codemirror_mode": {
    "name": "ipython",
    "version": 3
   },
   "file_extension": ".py",
   "mimetype": "text/x-python",
   "name": "python",
   "nbconvert_exporter": "python",
   "pygments_lexer": "ipython3",
   "version": "3.11.2"
  }
 },
 "nbformat": 4,
 "nbformat_minor": 2
}
